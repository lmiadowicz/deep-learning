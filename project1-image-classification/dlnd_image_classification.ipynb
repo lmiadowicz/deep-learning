{
 "cells": [
  {
   "cell_type": "markdown",
   "metadata": {
    "collapsed": true
   },
   "source": [
    "# Image Classification\n",
    "In this project, you'll classify images from the [CIFAR-10 dataset](https://www.cs.toronto.edu/~kriz/cifar.html).  The dataset consists of airplanes, dogs, cats, and other objects. You'll preprocess the images, then train a convolutional neural network on all the samples. The images need to be normalized and the labels need to be one-hot encoded.  You'll get to apply what you learned and build a convolutional, max pooling, dropout, and fully connected layers.  At the end, you'll get to see your neural network's predictions on the sample images.\n",
    "## Get the Data\n",
    "Run the following cell to download the [CIFAR-10 dataset for python](https://www.cs.toronto.edu/~kriz/cifar-10-python.tar.gz)."
   ]
  },
  {
   "cell_type": "code",
   "execution_count": 1,
   "metadata": {},
   "outputs": [
    {
     "name": "stdout",
     "output_type": "stream",
     "text": [
      "All files found!\n"
     ]
    }
   ],
   "source": [
    "\"\"\"\n",
    "DON'T MODIFY ANYTHING IN THIS CELL THAT IS BELOW THIS LINE\n",
    "\"\"\"\n",
    "from urllib.request import urlretrieve\n",
    "from os.path import isfile, isdir\n",
    "from tqdm import tqdm\n",
    "import problem_unittests as tests\n",
    "import tarfile\n",
    "\n",
    "cifar10_dataset_folder_path = 'cifar-10-batches-py'\n",
    "\n",
    "# Use Floyd's cifar-10 dataset if present\n",
    "floyd_cifar10_location = '/cifar/cifar-10-python.tar.gz'\n",
    "if isfile(floyd_cifar10_location):\n",
    "    tar_gz_path = floyd_cifar10_location\n",
    "else:\n",
    "    tar_gz_path = 'cifar-10-python.tar.gz'\n",
    "\n",
    "class DLProgress(tqdm):\n",
    "    last_block = 0\n",
    "\n",
    "    def hook(self, block_num=1, block_size=1, total_size=None):\n",
    "        self.total = total_size\n",
    "        self.update((block_num - self.last_block) * block_size)\n",
    "        self.last_block = block_num\n",
    "\n",
    "if not isfile(tar_gz_path):\n",
    "    with DLProgress(unit='B', unit_scale=True, miniters=1, desc='CIFAR-10 Dataset') as pbar:\n",
    "        urlretrieve(\n",
    "            'https://www.cs.toronto.edu/~kriz/cifar-10-python.tar.gz',\n",
    "            tar_gz_path,\n",
    "            pbar.hook)\n",
    "\n",
    "if not isdir(cifar10_dataset_folder_path):\n",
    "    with tarfile.open(tar_gz_path) as tar:\n",
    "        tar.extractall()\n",
    "        tar.close()\n",
    "\n",
    "\n",
    "tests.test_folder_path(cifar10_dataset_folder_path)"
   ]
  },
  {
   "cell_type": "markdown",
   "metadata": {},
   "source": [
    "## Explore the Data\n",
    "The dataset is broken into batches to prevent your machine from running out of memory.  The CIFAR-10 dataset consists of 5 batches, named `data_batch_1`, `data_batch_2`, etc.. Each batch contains the labels and images that are one of the following:\n",
    "* airplane\n",
    "* automobile\n",
    "* bird\n",
    "* cat\n",
    "* deer\n",
    "* dog\n",
    "* frog\n",
    "* horse\n",
    "* ship\n",
    "* truck\n",
    "\n",
    "Understanding a dataset is part of making predictions on the data.  Play around with the code cell below by changing the `batch_id` and `sample_id`. The `batch_id` is the id for a batch (1-5). The `sample_id` is the id for a image and label pair in the batch.\n",
    "\n",
    "Ask yourself \"What are all possible labels?\", \"What is the range of values for the image data?\", \"Are the labels in order or random?\".  Answers to questions like these will help you preprocess the data and end up with better predictions."
   ]
  },
  {
   "cell_type": "code",
   "execution_count": 2,
   "metadata": {},
   "outputs": [
    {
     "name": "stdout",
     "output_type": "stream",
     "text": [
      "\n",
      "Stats of batch 2:\n",
      "Samples: 10000\n",
      "Label Counts: {0: 984, 1: 1007, 2: 1010, 3: 995, 4: 1010, 5: 988, 6: 1008, 7: 1026, 8: 987, 9: 985}\n",
      "First 20 Labels: [1, 6, 6, 8, 8, 3, 4, 6, 0, 6, 0, 3, 6, 6, 5, 4, 8, 3, 2, 6]\n",
      "\n",
      "Example of Image 503:\n",
      "Image - Min Value: 0 Max Value: 249\n",
      "Image - Shape: (32, 32, 3)\n",
      "Label - Label Id: 5 Name: dog\n"
     ]
    },
    {
     "data": {
      "image/png": "[encoded data removed]",
      "text/plain": [
       "<matplotlib.figure.Figure at 0x1170b2128>"
      ]
     },
     "metadata": {
      "image/png": {
       "height": 250,
       "width": 253
      }
     },
     "output_type": "display_data"
    }
   ],
   "source": [
    "%matplotlib inline\n",
    "%config InlineBackend.figure_format = 'retina'\n",
    "\n",
    "import helper\n",
    "import numpy as np\n",
    "\n",
    "# Explore the dataset\n",
    "batch_id = 2\n",
    "sample_id = 503\n",
    "helper.display_stats(cifar10_dataset_folder_path, batch_id, sample_id)"
   ]
  },
  {
   "cell_type": "markdown",
   "metadata": {},
   "source": [
    "## Implement Preprocess Functions\n",
    "### Normalize\n",
    "In the cell below, implement the `normalize` function to take in image data, `x`, and return it as a normalized Numpy array. The values should be in the range of 0 to 1, inclusive.  The return object should be the same shape as `x`."
   ]
  },
  {
   "cell_type": "code",
   "execution_count": 3,
   "metadata": {},
   "outputs": [
    {
     "name": "stdout",
     "output_type": "stream",
     "text": [
      "Tests Passed\n"
     ]
    }
   ],
   "source": [
    "def normalize(x):\n",
    "    \"\"\"\n",
    "    Normalize a list of sample image data in the range of 0 to 1\n",
    "    : x: List of image data.  The image shape is (32, 32, 3)\n",
    "    : return: Numpy array of normalize data\n",
    "    \"\"\"\n",
    "    # TODO: Implement Function\n",
    "    return np.divide(x,255)\n",
    "\n",
    "\n",
    "\"\"\"\n",
    "DON'T MODIFY ANYTHING IN THIS CELL THAT IS BELOW THIS LINE\n",
    "\"\"\"\n",
    "tests.test_normalize(normalize)"
   ]
  },
  {
   "cell_type": "markdown",
   "metadata": {},
   "source": [
    "### One-hot encode\n",
    "Just like the previous code cell, you'll be implementing a function for preprocessing.  This time, you'll implement the `one_hot_encode` function. The input, `x`, are a list of labels.  Implement the function to return the list of labels as One-Hot encoded Numpy array.  The possible values for labels are 0 to 9. The one-hot encoding function should return the same encoding for each value between each call to `one_hot_encode`.  Make sure to save the map of encodings outside the function.\n",
    "\n",
    "Hint: Don't reinvent the wheel."
   ]
  },
  {
   "cell_type": "code",
   "execution_count": 4,
   "metadata": {},
   "outputs": [
    {
     "name": "stdout",
     "output_type": "stream",
     "text": [
      "Tests Passed\n"
     ]
    }
   ],
   "source": [
    "from sklearn import preprocessing\n",
    "labelbin = preprocessing.LabelBinarizer()\n",
    "\n",
    "def one_hot_encode(x):\n",
    "    \"\"\"\n",
    "    One hot encode a list of sample labels. Return a one-hot encoded vector for each label.\n",
    "    : x: List of sample Labels\n",
    "    : return: Numpy array of one-hot encoded labels\n",
    "    \"\"\"\n",
    "    # TODO: Implement Function\n",
    "    labelbin.fit(list(range(10)))\n",
    "    return labelbin.transform(x)\n",
    "\n",
    "\n",
    "\"\"\"\n",
    "DON'T MODIFY ANYTHING IN THIS CELL THAT IS BELOW THIS LINE\n",
    "\"\"\"\n",
    "tests.test_one_hot_encode(one_hot_encode)"
   ]
  },
  {
   "cell_type": "markdown",
   "metadata": {},
   "source": [
    "### Randomize Data\n",
    "As you saw from exploring the data above, the order of the samples are randomized.  It doesn't hurt to randomize it again, but you don't need to for this dataset."
   ]
  },
  {
   "cell_type": "markdown",
   "metadata": {},
   "source": [
    "## Preprocess all the data and save it\n",
    "Running the code cell below will preprocess all the CIFAR-10 data and save it to file. The code below also uses 10% of the training data for validation."
   ]
  },
  {
   "cell_type": "code",
   "execution_count": 5,
   "metadata": {
    "collapsed": true
   },
   "outputs": [],
   "source": [
    "\"\"\"\n",
    "DON'T MODIFY ANYTHING IN THIS CELL\n",
    "\"\"\"\n",
    "# Preprocess Training, Validation, and Testing Data\n",
    "helper.preprocess_and_save_data(cifar10_dataset_folder_path, normalize, one_hot_encode)"
   ]
  },
  {
   "cell_type": "markdown",
   "metadata": {},
   "source": [
    "# Check Point\n",
    "This is your first checkpoint.  If you ever decide to come back to this notebook or have to restart the notebook, you can start from here.  The preprocessed data has been saved to disk."
   ]
  },
  {
   "cell_type": "code",
   "execution_count": 6,
   "metadata": {
    "collapsed": true
   },
   "outputs": [],
   "source": [
    "\"\"\"\n",
    "DON'T MODIFY ANYTHING IN THIS CELL\n",
    "\"\"\"\n",
    "import pickle\n",
    "import problem_unittests as tests\n",
    "import helper\n",
    "\n",
    "# Load the Preprocessed Validation data\n",
    "valid_features, valid_labels = pickle.load(open('preprocess_validation.p', mode='rb'))"
   ]
  },
  {
   "cell_type": "markdown",
   "metadata": {},
   "source": [
    "## Build the network\n",
    "For the neural network, you'll build each layer into a function.  Most of the code you've seen has been outside of functions. To test your code more thoroughly, we require that you put each layer in a function.  This allows us to give you better feedback and test for simple mistakes using our unittests before you submit your project.\n",
    "\n",
    ">**Note:** If you're finding it hard to dedicate enough time for this course each week, we've provided a small shortcut to this part of the project. In the next couple of problems, you'll have the option to use classes from the [TensorFlow Layers](https://www.tensorflow.org/api_docs/python/tf/layers) or [TensorFlow Layers (contrib)](https://www.tensorflow.org/api_guides/python/contrib.layers) packages to build each layer, except the layers you build in the \"Convolutional and Max Pooling Layer\" section.  TF Layers is similar to Keras's and TFLearn's abstraction to layers, so it's easy to pickup.\n",
    "\n",
    ">However, if you would like to get the most out of this course, try to solve all the problems _without_ using anything from the TF Layers packages. You **can** still use classes from other packages that happen to have the same name as ones you find in TF Layers! For example, instead of using the TF Layers version of the `conv2d` class, [tf.layers.conv2d](https://www.tensorflow.org/api_docs/python/tf/layers/conv2d), you would want to use the TF Neural Network version of `conv2d`, [tf.nn.conv2d](https://www.tensorflow.org/api_docs/python/tf/nn/conv2d). \n",
    "\n",
    "Let's begin!\n",
    "\n",
    "### Input\n",
    "The neural network needs to read the image data, one-hot encoded labels, and dropout keep probability. Implement the following functions\n",
    "* Implement `neural_net_image_input`\n",
    " * Return a [TF Placeholder](https://www.tensorflow.org/api_docs/python/tf/placeholder)\n",
    " * Set the shape using `image_shape` with batch size set to `None`.\n",
    " * Name the TensorFlow placeholder \"x\" using the TensorFlow `name` parameter in the [TF Placeholder](https://www.tensorflow.org/api_docs/python/tf/placeholder).\n",
    "* Implement `neural_net_label_input`\n",
    " * Return a [TF Placeholder](https://www.tensorflow.org/api_docs/python/tf/placeholder)\n",
    " * Set the shape using `n_classes` with batch size set to `None`.\n",
    " * Name the TensorFlow placeholder \"y\" using the TensorFlow `name` parameter in the [TF Placeholder](https://www.tensorflow.org/api_docs/python/tf/placeholder).\n",
    "* Implement `neural_net_keep_prob_input`\n",
    " * Return a [TF Placeholder](https://www.tensorflow.org/api_docs/python/tf/placeholder) for dropout keep probability.\n",
    " * Name the TensorFlow placeholder \"keep_prob\" using the TensorFlow `name` parameter in the [TF Placeholder](https://www.tensorflow.org/api_docs/python/tf/placeholder).\n",
    "\n",
    "These names will be used at the end of the project to load your saved model.\n",
    "\n",
    "Note: `None` for shapes in TensorFlow allow for a dynamic size."
   ]
  },
  {
   "cell_type": "code",
   "execution_count": 7,
   "metadata": {},
   "outputs": [
    {
     "name": "stdout",
     "output_type": "stream",
     "text": [
      "Image Input Tests Passed.\n",
      "Label Input Tests Passed.\n",
      "Keep Prob Tests Passed.\n"
     ]
    }
   ],
   "source": [
    "import tensorflow as tf\n",
    "\n",
    "def neural_net_image_input(image_shape):\n",
    "    \"\"\"\n",
    "    Return a Tensor for a batch of image input\n",
    "    : image_shape: Shape of the images\n",
    "    : return: Tensor for image input.\n",
    "    \"\"\"\n",
    "    # TODO: Implement Function\n",
    "    return tf.placeholder(tf.float32, (None,)+image_shape, name=\"x\")\n",
    "\n",
    "def neural_net_label_input(n_classes):\n",
    "    \"\"\"\n",
    "    Return a Tensor for a batch of label input\n",
    "    : n_classes: Number of classes\n",
    "    : return: Tensor for label input.\n",
    "    \"\"\"\n",
    "    # TODO: Implement Function\n",
    "    return tf.placeholder(tf.float32, (None, n_classes), name=\"y\")\n",
    "\n",
    "\n",
    "def neural_net_keep_prob_input():\n",
    "    \"\"\"\n",
    "    Return a Tensor for keep probability\n",
    "    : return: Tensor for keep probability.\n",
    "    \"\"\"\n",
    "    # TODO: Implement Function\n",
    "    return tf.placeholder(tf.float32, name=\"keep_prob\")\n",
    "\n",
    "\n",
    "\"\"\"\n",
    "DON'T MODIFY ANYTHING IN THIS CELL THAT IS BELOW THIS LINE\n",
    "\"\"\"\n",
    "tf.reset_default_graph()\n",
    "tests.test_nn_image_inputs(neural_net_image_input)\n",
    "tests.test_nn_label_inputs(neural_net_label_input)\n",
    "tests.test_nn_keep_prob_inputs(neural_net_keep_prob_input)"
   ]
  },
  {
   "cell_type": "markdown",
   "metadata": {},
   "source": [
    "### Convolution and Max Pooling Layer\n",
    "Convolution layers have a lot of success with images. For this code cell, you should implement the function `conv2d_maxpool` to apply convolution then max pooling:\n",
    "* Create the weight and bias using `conv_ksize`, `conv_num_outputs` and the shape of `x_tensor`.\n",
    "* Apply a convolution to `x_tensor` using weight and `conv_strides`.\n",
    " * We recommend you use same padding, but you're welcome to use any padding.\n",
    "* Add bias\n",
    "* Add a nonlinear activation to the convolution.\n",
    "* Apply Max Pooling using `pool_ksize` and `pool_strides`.\n",
    " * We recommend you use same padding, but you're welcome to use any padding.\n",
    "\n",
    "**Note:** You **can't** use [TensorFlow Layers](https://www.tensorflow.org/api_docs/python/tf/layers) or [TensorFlow Layers (contrib)](https://www.tensorflow.org/api_guides/python/contrib.layers) for **this** layer, but you can still use TensorFlow's [Neural Network](https://www.tensorflow.org/api_docs/python/tf/nn) package. You may still use the shortcut option for all the **other** layers."
   ]
  },
  {
   "cell_type": "code",
   "execution_count": 8,
   "metadata": {},
   "outputs": [
    {
     "name": "stdout",
     "output_type": "stream",
     "text": [
      "Tests Passed\n"
     ]
    }
   ],
   "source": [
    "def conv2d_maxpool(x_tensor, conv_num_outputs, conv_ksize, conv_strides, pool_ksize, pool_strides):\n",
    "    \"\"\"\n",
    "    Apply convolution then max pooling to x_tensor\n",
    "    :param x_tensor: TensorFlow Tensor\n",
    "    :param conv_num_outputs: Number of outputs for the convolutional layer\n",
    "    :param conv_ksize: kernal size 2-D Tuple for the convolutional layer\n",
    "    :param conv_strides: Stride 2-D Tuple for convolution\n",
    "    :param pool_ksize: kernal size 2-D Tuple for pool\n",
    "    :param pool_strides: Stride 2-D Tuple for pool\n",
    "    : return: A tensor that represents convolution and max pooling of x_tensor\n",
    "    \"\"\"\n",
    "    # TODO: Implement Function\n",
    "    weights = tf.Variable(tf.random_normal([conv_ksize[0], conv_ksize[1], x_tensor.get_shape().as_list()[-1], conv_num_outputs], mean=0.0, stddev=0.1))\n",
    "    bias = tf.Variable(tf.zeros(conv_num_outputs, dtype=tf.float32))\n",
    "    strides = [1, conv_strides[0], conv_strides[1], 1]\n",
    "    return tf.nn.max_pool(tf.nn.relu(tf.nn.bias_add(tf.nn.conv2d(x_tensor, weights, strides=strides, padding='SAME'), bias)), ksize=[1, pool_ksize[0], pool_ksize[1], 1], strides=[1, pool_strides[0], pool_strides[1], 1], padding='SAME')\n",
    "    \n",
    "\n",
    "\n",
    "\"\"\"\n",
    "DON'T MODIFY ANYTHING IN THIS CELL THAT IS BELOW THIS LINE\n",
    "\"\"\"\n",
    "tests.test_con_pool(conv2d_maxpool)"
   ]
  },
  {
   "cell_type": "markdown",
   "metadata": {},
   "source": [
    "### Flatten Layer\n",
    "Implement the `flatten` function to change the dimension of `x_tensor` from a 4-D tensor to a 2-D tensor.  The output should be the shape (*Batch Size*, *Flattened Image Size*). Shortcut option: you can use classes from the [TensorFlow Layers](https://www.tensorflow.org/api_docs/python/tf/layers) or [TensorFlow Layers (contrib)](https://www.tensorflow.org/api_guides/python/contrib.layers) packages for this layer. For more of a challenge, only use other TensorFlow packages."
   ]
  },
  {
   "cell_type": "code",
   "execution_count": 9,
   "metadata": {},
   "outputs": [
    {
     "name": "stdout",
     "output_type": "stream",
     "text": [
      "Tests Passed\n"
     ]
    }
   ],
   "source": [
    "def flatten(x_tensor):\n",
    "    \"\"\"\n",
    "    Flatten x_tensor to (Batch Size, Flattened Image Size)\n",
    "    : x_tensor: A tensor of size (Batch Size, ...), where ... are the image dimensions.\n",
    "    : return: A tensor of size (Batch Size, Flattened Image Size).\n",
    "    \"\"\"\n",
    "    # TODO: Implement Function\n",
    "    flattened = np.array(x_tensor.get_shape().as_list()[1:]).prod()\n",
    "    return tf.reshape(x_tensor, [tf.shape(x_tensor)[0], flattened])\n",
    "\n",
    "\n",
    "\"\"\"\n",
    "DON'T MODIFY ANYTHING IN THIS CELL THAT IS BELOW THIS LINE\n",
    "\"\"\"\n",
    "tests.test_flatten(flatten)"
   ]
  },
  {
   "cell_type": "markdown",
   "metadata": {},
   "source": [
    "### Fully-Connected Layer\n",
    "Implement the `fully_conn` function to apply a fully connected layer to `x_tensor` with the shape (*Batch Size*, *num_outputs*). Shortcut option: you can use classes from the [TensorFlow Layers](https://www.tensorflow.org/api_docs/python/tf/layers) or [TensorFlow Layers (contrib)](https://www.tensorflow.org/api_guides/python/contrib.layers) packages for this layer. For more of a challenge, only use other TensorFlow packages."
   ]
  },
  {
   "cell_type": "code",
   "execution_count": 10,
   "metadata": {},
   "outputs": [
    {
     "name": "stdout",
     "output_type": "stream",
     "text": [
      "Tests Passed\n"
     ]
    }
   ],
   "source": [
    "def fully_conn(x_tensor, num_outputs):\n",
    "    \"\"\"\n",
    "    Apply a fully connected layer to x_tensor using weight and bias\n",
    "    : x_tensor: A 2-D tensor where the first dimension is batch size.\n",
    "    : num_outputs: The number of output that the new tensor should be.\n",
    "    : return: A 2-D tensor where the second dimension is num_outputs.\n",
    "    \"\"\"\n",
    "    # TODO: Implement Function\n",
    "    flattened = np.array(x_tensor.get_shape().as_list()[1:]).prod()\n",
    "    weights = tf.Variable(tf.random_normal([flattened, num_outputs], mean=0.0, stddev=0.1))\n",
    "    bias = tf.Variable(tf.zeros([num_outputs]))        \n",
    "    return tf.nn.relu((tf.add(tf.matmul(x_tensor, weights), bias))) \n",
    "\n",
    "\n",
    "\"\"\"\n",
    "DON'T MODIFY ANYTHING IN THIS CELL THAT IS BELOW THIS LINE\n",
    "\"\"\"\n",
    "tests.test_fully_conn(fully_conn)"
   ]
  },
  {
   "cell_type": "markdown",
   "metadata": {},
   "source": [
    "### Output Layer\n",
    "Implement the `output` function to apply a fully connected layer to `x_tensor` with the shape (*Batch Size*, *num_outputs*). Shortcut option: you can use classes from the [TensorFlow Layers](https://www.tensorflow.org/api_docs/python/tf/layers) or [TensorFlow Layers (contrib)](https://www.tensorflow.org/api_guides/python/contrib.layers) packages for this layer. For more of a challenge, only use other TensorFlow packages.\n",
    "\n",
    "**Note:** Activation, softmax, or cross entropy should **not** be applied to this."
   ]
  },
  {
   "cell_type": "code",
   "execution_count": 11,
   "metadata": {},
   "outputs": [
    {
     "name": "stdout",
     "output_type": "stream",
     "text": [
      "Tests Passed\n"
     ]
    }
   ],
   "source": [
    "def output(x_tensor, num_outputs):\n",
    "    \"\"\"\n",
    "    Apply a output layer to x_tensor using weight and bias\n",
    "    : x_tensor: A 2-D tensor where the first dimension is batch size.\n",
    "    : num_outputs: The number of output that the new tensor should be.\n",
    "    : return: A 2-D tensor where the second dimension is num_outputs.\n",
    "    \"\"\"\n",
    "    # TODO: Implement Function\n",
    "    flattened = np.array(x_tensor.get_shape().as_list()[1:]).prod()\n",
    "    weights = tf.Variable(tf.random_normal([flattened, num_outputs], mean=0.0, stddev=0.1))\n",
    "    bias = tf.Variable(tf.zeros([num_outputs]))\n",
    "    return tf.add(tf.matmul(x_tensor, weights), bias)\n",
    "\n",
    "\n",
    "\"\"\"\n",
    "DON'T MODIFY ANYTHING IN THIS CELL THAT IS BELOW THIS LINE\n",
    "\"\"\"\n",
    "tests.test_output(output)"
   ]
  },
  {
   "cell_type": "markdown",
   "metadata": {},
   "source": [
    "### Create Convolutional Model\n",
    "Implement the function `conv_net` to create a convolutional neural network model. The function takes in a batch of images, `x`, and outputs logits.  Use the layers you created above to create this model:\n",
    "\n",
    "* Apply 1, 2, or 3 Convolution and Max Pool layers\n",
    "* Apply a Flatten Layer\n",
    "* Apply 1, 2, or 3 Fully Connected Layers\n",
    "* Apply an Output Layer\n",
    "* Return the output\n",
    "* Apply [TensorFlow's Dropout](https://www.tensorflow.org/api_docs/python/tf/nn/dropout) to one or more layers in the model using `keep_prob`. "
   ]
  },
  {
   "cell_type": "code",
   "execution_count": 12,
   "metadata": {},
   "outputs": [
    {
     "name": "stdout",
     "output_type": "stream",
     "text": [
      "Neural Network Built!\n"
     ]
    }
   ],
   "source": [
    "def conv_net(x, keep_prob):\n",
    "    \"\"\"\n",
    "    Create a convolutional neural network model\n",
    "    : x: Placeholder tensor that holds image data.\n",
    "    : keep_prob: Placeholder tensor that hold dropout keep probability.\n",
    "    : return: Tensor that represents logits\n",
    "    \"\"\"\n",
    "    # TODO: Apply 1, 2, or 3 Convolution and Max Pool layers\n",
    "    #    Play around with different number of outputs, kernel size and stride\n",
    "    # Function Definition from Above:\n",
    "    #    conv2d_maxpool(x_tensor, conv_num_outputs, conv_ksize, conv_strides, pool_ksize, pool_strides)\n",
    "    x = conv2d_maxpool(x, conv_num_outputs=128, conv_ksize=[5,5], conv_strides=[1,1], pool_ksize=[3,3], pool_strides=[2,2])\n",
    "    # TODO: Apply a Flatten Layer\n",
    "    # Function Definition from Above:\n",
    "    #   flatten(x_tensor)\n",
    "    x = flatten(x)\n",
    "    x = tf.nn.dropout(x, keep_prob)\n",
    "\n",
    "    # TODO: Apply 1, 2, or 3 Fully Connected Layers\n",
    "    #    Play around with different number of outputs\n",
    "    # Function Definition from Above:\n",
    "    #   fully_conn(x_tensor, num_outputs)\n",
    "    \n",
    "    #x = fully_conn(x,512)\n",
    "    x = fully_conn(x,128)\n",
    "    \n",
    "    \n",
    "    # TODO: Apply an Output Layer\n",
    "    #    Set this to the number of classes\n",
    "    # Function Definition from Above:\n",
    "    #   output(x_tensor, num_outputs)\n",
    "    x = output(x,10)\n",
    "    \n",
    "    # TODO: return output\n",
    "    return x\n",
    "\n",
    "\n",
    "\"\"\"\n",
    "DON'T MODIFY ANYTHING IN THIS CELL THAT IS BELOW THIS LINE\n",
    "\"\"\"\n",
    "\n",
    "##############################\n",
    "## Build the Neural Network ##\n",
    "##############################\n",
    "\n",
    "# Remove previous weights, bias, inputs, etc..\n",
    "tf.reset_default_graph()\n",
    "\n",
    "# Inputs\n",
    "x = neural_net_image_input((32, 32, 3))\n",
    "y = neural_net_label_input(10)\n",
    "keep_prob = neural_net_keep_prob_input()\n",
    "\n",
    "# Model\n",
    "logits = conv_net(x, keep_prob)\n",
    "\n",
    "# Name logits Tensor, so that is can be loaded from disk after training\n",
    "logits = tf.identity(logits, name='logits')\n",
    "\n",
    "# Loss and Optimizer\n",
    "cost = tf.reduce_mean(tf.nn.softmax_cross_entropy_with_logits(logits=logits, labels=y))\n",
    "optimizer = tf.train.AdamOptimizer().minimize(cost)\n",
    "\n",
    "# Accuracy\n",
    "correct_pred = tf.equal(tf.argmax(logits, 1), tf.argmax(y, 1))\n",
    "accuracy = tf.reduce_mean(tf.cast(correct_pred, tf.float32), name='accuracy')\n",
    "\n",
    "tests.test_conv_net(conv_net)"
   ]
  },
  {
   "cell_type": "markdown",
   "metadata": {},
   "source": [
    "## Train the Neural Network\n",
    "### Single Optimization\n",
    "Implement the function `train_neural_network` to do a single optimization.  The optimization should use `optimizer` to optimize in `session` with a `feed_dict` of the following:\n",
    "* `x` for image input\n",
    "* `y` for labels\n",
    "* `keep_prob` for keep probability for dropout\n",
    "\n",
    "This function will be called for each batch, so `tf.global_variables_initializer()` has already been called.\n",
    "\n",
    "Note: Nothing needs to be returned. This function is only optimizing the neural network."
   ]
  },
  {
   "cell_type": "code",
   "execution_count": 13,
   "metadata": {},
   "outputs": [
    {
     "name": "stdout",
     "output_type": "stream",
     "text": [
      "Tests Passed\n"
     ]
    }
   ],
   "source": [
    "def train_neural_network(session, optimizer, keep_probability, feature_batch, label_batch):\n",
    "    \"\"\"\n",
    "    Optimize the session on a batch of images and labels\n",
    "    : session: Current TensorFlow session\n",
    "    : optimizer: TensorFlow optimizer function\n",
    "    : keep_probability: keep probability\n",
    "    : feature_batch: Batch of Numpy image data\n",
    "    : label_batch: Batch of Numpy label data\n",
    "    \"\"\"\n",
    "    # TODO: Implement Function\n",
    "    session.run(optimizer, feed_dict={x: feature_batch, y: label_batch, keep_prob: keep_probability})\n",
    "\n",
    "\n",
    "\"\"\"\n",
    "DON'T MODIFY ANYTHING IN THIS CELL THAT IS BELOW THIS LINE\n",
    "\"\"\"\n",
    "tests.test_train_nn(train_neural_network)"
   ]
  },
  {
   "cell_type": "markdown",
   "metadata": {},
   "source": [
    "### Show Stats\n",
    "Implement the function `print_stats` to print loss and validation accuracy.  Use the global variables `valid_features` and `valid_labels` to calculate validation accuracy.  Use a keep probability of `1.0` to calculate the loss and validation accuracy."
   ]
  },
  {
   "cell_type": "code",
   "execution_count": 15,
   "metadata": {
    "collapsed": true
   },
   "outputs": [],
   "source": [
    "def print_stats(session, feature_batch, label_batch, cost, accuracy):\n",
    "    \"\"\"\n",
    "    Print information about loss and validation accuracy\n",
    "    : session: Current TensorFlow session\n",
    "    : feature_batch: Batch of Numpy image data\n",
    "    : label_batch: Batch of Numpy label data\n",
    "    : cost: TensorFlow cost function\n",
    "    : accuracy: TensorFlow accuracy function\n",
    "    \"\"\"\n",
    "    # TODO: Implement Function\n",
    "    validation_accuracy = session.run(accuracy, feed_dict={x: valid_features, y: valid_labels, keep_prob: 1.0})\n",
    "    loss = session.run(cost, feed_dict={x: feature_batch, y: label_batch, keep_prob: 1.0})\n",
    "    print('Loss={0} ; ACC={1}'.format(loss, validation_accuracy))"
   ]
  },
  {
   "cell_type": "markdown",
   "metadata": {},
   "source": [
    "### Hyperparameters\n",
    "Tune the following parameters:\n",
    "* Set `epochs` to the number of iterations until the network stops learning or start overfitting\n",
    "* Set `batch_size` to the highest number that your machine has memory for.  Most people set them to common sizes of memory:\n",
    " * 64\n",
    " * 128\n",
    " * 256\n",
    " * ...\n",
    "* Set `keep_probability` to the probability of keeping a node using dropout"
   ]
  },
  {
   "cell_type": "code",
   "execution_count": 16,
   "metadata": {
    "collapsed": true
   },
   "outputs": [],
   "source": [
    "# TODO: Tune Parameters\n",
    "epochs = 42\n",
    "batch_size = 64\n",
    "keep_probability = 0.7"
   ]
  },
  {
   "cell_type": "markdown",
   "metadata": {},
   "source": [
    "### Train on a Single CIFAR-10 Batch\n",
    "Instead of training the neural network on all the CIFAR-10 batches of data, let's use a single batch. This should save time while you iterate on the model to get a better accuracy.  Once the final validation accuracy is 50% or greater, run the model on all the data in the next section."
   ]
  },
  {
   "cell_type": "code",
   "execution_count": 17,
   "metadata": {},
   "outputs": [
    {
     "name": "stdout",
     "output_type": "stream",
     "text": [
      "Checking the Training on a Single Batch...\n",
      "Epoch  1, CIFAR-10 Batch 1:  Loss=1.954679250717163 ; ACC=0.38580000400543213\n",
      "Epoch  2, CIFAR-10 Batch 1:  Loss=1.7576496601104736 ; ACC=0.4560000002384186\n",
      "Epoch  3, CIFAR-10 Batch 1:  Loss=1.5136539936065674 ; ACC=0.5152000188827515\n",
      "Epoch  4, CIFAR-10 Batch 1:  Loss=1.3166871070861816 ; ACC=0.5374000072479248\n",
      "Epoch  5, CIFAR-10 Batch 1:  Loss=1.1769375801086426 ; ACC=0.5532000064849854\n",
      "Epoch  6, CIFAR-10 Batch 1:  Loss=1.0391972064971924 ; ACC=0.5562000274658203\n",
      "Epoch  7, CIFAR-10 Batch 1:  Loss=0.8349955677986145 ; ACC=0.5699999928474426\n",
      "Epoch  8, CIFAR-10 Batch 1:  Loss=0.7073354721069336 ; ACC=0.5619999766349792\n",
      "Epoch  9, CIFAR-10 Batch 1:  Loss=0.5972157716751099 ; ACC=0.5550000071525574\n",
      "Epoch 10, CIFAR-10 Batch 1:  Loss=0.45616692304611206 ; ACC=0.5636000037193298\n",
      "Epoch 11, CIFAR-10 Batch 1:  Loss=0.36341777443885803 ; ACC=0.5681999921798706\n",
      "Epoch 12, CIFAR-10 Batch 1:  Loss=0.32492709159851074 ; ACC=0.5514000058174133\n",
      "Epoch 13, CIFAR-10 Batch 1:  Loss=0.23839855194091797 ; ACC=0.5594000220298767\n",
      "Epoch 14, CIFAR-10 Batch 1:  Loss=0.17454348504543304 ; ACC=0.5590000152587891\n",
      "Epoch 15, CIFAR-10 Batch 1:  Loss=0.14002159237861633 ; ACC=0.5594000220298767\n",
      "Epoch 16, CIFAR-10 Batch 1:  Loss=0.11890628188848495 ; ACC=0.5532000064849854\n",
      "Epoch 17, CIFAR-10 Batch 1:  Loss=0.08688772469758987 ; ACC=0.557200014591217\n",
      "Epoch 18, CIFAR-10 Batch 1:  Loss=0.05962695553898811 ; ACC=0.5460000038146973\n",
      "Epoch 19, CIFAR-10 Batch 1:  Loss=0.039866507053375244 ; ACC=0.5464000105857849\n",
      "Epoch 20, CIFAR-10 Batch 1:  Loss=0.05444824695587158 ; ACC=0.5501999855041504\n",
      "Epoch 21, CIFAR-10 Batch 1:  Loss=0.04352639988064766 ; ACC=0.5644000172615051\n",
      "Epoch 22, CIFAR-10 Batch 1:  Loss=0.035312145948410034 ; ACC=0.5637999773025513\n",
      "Epoch 23, CIFAR-10 Batch 1:  Loss=0.02704586088657379 ; ACC=0.5609999895095825\n",
      "Epoch 24, CIFAR-10 Batch 1:  Loss=0.02373294159770012 ; ACC=0.5576000213623047\n",
      "Epoch 25, CIFAR-10 Batch 1:  Loss=0.03340230509638786 ; ACC=0.545199990272522\n",
      "Epoch 26, CIFAR-10 Batch 1:  Loss=0.024545904248952866 ; ACC=0.5604000091552734\n",
      "Epoch 27, CIFAR-10 Batch 1:  Loss=0.008177452720701694 ; ACC=0.5613999962806702\n",
      "Epoch 28, CIFAR-10 Batch 1:  Loss=0.019684506580233574 ; ACC=0.5600000023841858\n",
      "Epoch 29, CIFAR-10 Batch 1:  Loss=0.015959948301315308 ; ACC=0.5541999936103821\n",
      "Epoch 30, CIFAR-10 Batch 1:  Loss=0.011152572929859161 ; ACC=0.5680000185966492\n",
      "Epoch 31, CIFAR-10 Batch 1:  Loss=0.00961547065526247 ; ACC=0.5626000165939331\n",
      "Epoch 32, CIFAR-10 Batch 1:  Loss=0.011585052125155926 ; ACC=0.5529999732971191\n",
      "Epoch 33, CIFAR-10 Batch 1:  Loss=0.010419905185699463 ; ACC=0.5551999807357788\n",
      "Epoch 34, CIFAR-10 Batch 1:  Loss=0.005467447452247143 ; ACC=0.5658000111579895\n",
      "Epoch 35, CIFAR-10 Batch 1:  Loss=0.0070055811665952206 ; ACC=0.5604000091552734\n",
      "Epoch 36, CIFAR-10 Batch 1:  Loss=0.009524395689368248 ; ACC=0.5565999746322632\n",
      "Epoch 37, CIFAR-10 Batch 1:  Loss=0.0029136971570551395 ; ACC=0.5577999949455261\n",
      "Epoch 38, CIFAR-10 Batch 1:  Loss=0.012922939844429493 ; ACC=0.5655999779701233\n",
      "Epoch 39, CIFAR-10 Batch 1:  Loss=0.0064399586990475655 ; ACC=0.5486000180244446\n",
      "Epoch 40, CIFAR-10 Batch 1:  Loss=0.001919893198646605 ; ACC=0.5667999982833862\n",
      "Epoch 41, CIFAR-10 Batch 1:  Loss=0.002568513620644808 ; ACC=0.5493999719619751\n",
      "Epoch 42, CIFAR-10 Batch 1:  Loss=0.0021073699463158846 ; ACC=0.5415999889373779\n"
     ]
    }
   ],
   "source": [
    "\"\"\"\n",
    "DON'T MODIFY ANYTHING IN THIS CELL\n",
    "\"\"\"\n",
    "print('Checking the Training on a Single Batch...')\n",
    "with tf.Session() as sess:\n",
    "    # Initializing the variables\n",
    "    sess.run(tf.global_variables_initializer())\n",
    "    \n",
    "    # Training cycle\n",
    "    for epoch in range(epochs):\n",
    "        batch_i = 1\n",
    "        for batch_features, batch_labels in helper.load_preprocess_training_batch(batch_i, batch_size):\n",
    "            train_neural_network(sess, optimizer, keep_probability, batch_features, batch_labels)\n",
    "        print('Epoch {:>2}, CIFAR-10 Batch {}:  '.format(epoch + 1, batch_i), end='')\n",
    "        print_stats(sess, batch_features, batch_labels, cost, accuracy)"
   ]
  },
  {
   "cell_type": "markdown",
   "metadata": {},
   "source": [
    "### Fully Train the Model\n",
    "Now that you got a good accuracy with a single CIFAR-10 batch, try it with all five batches."
   ]
  },
  {
   "cell_type": "code",
   "execution_count": null,
   "metadata": {
    "scrolled": true
   },
   "outputs": [
    {
     "name": "stdout",
     "output_type": "stream",
     "text": [
      "Training...\n",
      "Epoch  1, CIFAR-10 Batch 1:  Loss=1.9891357421875 ; ACC=0.35839998722076416\n",
      "Epoch  1, CIFAR-10 Batch 2:  Loss=1.536144495010376 ; ACC=0.47620001435279846\n",
      "Epoch  1, CIFAR-10 Batch 3:  Loss=1.2515833377838135 ; ACC=0.5103999972343445\n",
      "Epoch  1, CIFAR-10 Batch 4:  Loss=1.3274565935134888 ; ACC=0.5379999876022339\n",
      "Epoch  1, CIFAR-10 Batch 5:  Loss=1.2397414445877075 ; ACC=0.5723999738693237\n",
      "Epoch  2, CIFAR-10 Batch 1:  Loss=1.3934895992279053 ; ACC=0.5781999826431274\n",
      "Epoch  2, CIFAR-10 Batch 2:  Loss=1.0553104877471924 ; ACC=0.5680000185966492\n",
      "Epoch  2, CIFAR-10 Batch 3:  Loss=0.9611116647720337 ; ACC=0.5971999764442444\n",
      "Epoch  2, CIFAR-10 Batch 4:  Loss=1.0336065292358398 ; ACC=0.6033999919891357\n",
      "Epoch  2, CIFAR-10 Batch 5:  Loss=0.9497411847114563 ; ACC=0.6119999885559082\n",
      "Epoch  3, CIFAR-10 Batch 1:  Loss=1.2084629535675049 ; ACC=0.6118000149726868\n",
      "Epoch  3, CIFAR-10 Batch 2:  Loss=0.900225818157196 ; ACC=0.5989999771118164\n",
      "Epoch  3, CIFAR-10 Batch 3:  Loss=0.7841678857803345 ; ACC=0.6294000148773193\n",
      "Epoch  3, CIFAR-10 Batch 4:  Loss=0.8703292608261108 ; ACC=0.6323999762535095\n",
      "Epoch  3, CIFAR-10 Batch 5:  Loss=0.7788721919059753 ; ACC=0.6416000127792358\n",
      "Epoch  4, CIFAR-10 Batch 1:  Loss=1.0540157556533813 ; ACC=0.6317999958992004\n",
      "Epoch  4, CIFAR-10 Batch 2:  Loss=0.8423202633857727 ; ACC=0.6284000277519226\n",
      "Epoch  4, CIFAR-10 Batch 3:  Loss=0.6347194910049438 ; ACC=0.6425999999046326\n",
      "Epoch  4, CIFAR-10 Batch 4:  Loss=0.8522672653198242 ; ACC=0.6412000060081482\n",
      "Epoch  4, CIFAR-10 Batch 5:  Loss=0.6775884628295898 ; ACC=0.6499999761581421\n",
      "Epoch  5, CIFAR-10 Batch 1:  Loss=0.9438823461532593 ; ACC=0.6480000019073486\n",
      "Epoch  5, CIFAR-10 Batch 2:  Loss=0.7736268639564514 ; ACC=0.628000020980835\n",
      "Epoch  5, CIFAR-10 Batch 3:  Loss=0.47719448804855347 ; ACC=0.6528000235557556\n",
      "Epoch  5, CIFAR-10 Batch 4:  Loss=0.7672000527381897 ; ACC=0.6538000106811523\n",
      "Epoch  5, CIFAR-10 Batch 5:  Loss=0.6932037472724915 ; ACC=0.6565999984741211\n",
      "Epoch  6, CIFAR-10 Batch 1:  Loss=0.9026564359664917 ; ACC=0.6460000276565552\n",
      "Epoch  6, CIFAR-10 Batch 2:  Loss=0.6913443803787231 ; ACC=0.6420000195503235\n",
      "Epoch  6, CIFAR-10 Batch 3:  Loss=0.38883262872695923 ; ACC=0.6615999937057495\n",
      "Epoch  6, CIFAR-10 Batch 4:  Loss=0.6736652255058289 ; ACC=0.6661999821662903\n",
      "Epoch  6, CIFAR-10 Batch 5:  Loss=0.545426607131958 ; ACC=0.6583999991416931\n",
      "Epoch  7, CIFAR-10 Batch 1:  Loss=0.7142989039421082 ; ACC=0.652400016784668\n",
      "Epoch  7, CIFAR-10 Batch 2:  Loss=0.6147077679634094 ; ACC=0.6377999782562256\n",
      "Epoch  7, CIFAR-10 Batch 3:  Loss=0.3502764105796814 ; ACC=0.6516000032424927\n",
      "Epoch  7, CIFAR-10 Batch 4:  Loss=0.5631846189498901 ; ACC=0.6624000072479248\n",
      "Epoch  7, CIFAR-10 Batch 5:  Loss=0.43708014488220215 ; ACC=0.6593999862670898\n",
      "Epoch  8, CIFAR-10 Batch 1:  Loss=0.6628113985061646 ; ACC=0.6467999815940857\n",
      "Epoch  8, CIFAR-10 Batch 2:  Loss=0.5473158955574036 ; ACC=0.6323999762535095\n",
      "Epoch  8, CIFAR-10 Batch 3:  Loss=0.30670619010925293 ; ACC=0.6449999809265137\n",
      "Epoch  8, CIFAR-10 Batch 4:  Loss=0.4324173033237457 ; ACC=0.6618000268936157\n",
      "Epoch  8, CIFAR-10 Batch 5:  Loss=0.4000018239021301 ; ACC=0.6567999720573425\n",
      "Epoch  9, CIFAR-10 Batch 1:  Loss=0.47398918867111206 ; ACC=0.6471999883651733\n",
      "Epoch  9, CIFAR-10 Batch 2:  Loss=0.45893430709838867 ; ACC=0.6377999782562256\n",
      "Epoch  9, CIFAR-10 Batch 3:  Loss=0.26762089133262634 ; ACC=0.644599974155426\n",
      "Epoch  9, CIFAR-10 Batch 4:  Loss=0.40638065338134766 ; ACC=0.6549999713897705\n",
      "Epoch  9, CIFAR-10 Batch 5:  Loss=0.31684184074401855 ; ACC=0.6589999794960022\n",
      "Epoch 10, CIFAR-10 Batch 1:  Loss=0.43775472044944763 ; ACC=0.6499999761581421\n",
      "Epoch 10, CIFAR-10 Batch 2:  Loss=0.45111575722694397 ; ACC=0.6430000066757202\n",
      "Epoch 10, CIFAR-10 Batch 3:  Loss=0.2100696861743927 ; ACC=0.6467999815940857\n",
      "Epoch 10, CIFAR-10 Batch 4:  Loss=0.3369644582271576 ; ACC=0.6438000202178955\n",
      "Epoch 10, CIFAR-10 Batch 5:  Loss=0.22048082947731018 ; ACC=0.6546000242233276\n",
      "Epoch 11, CIFAR-10 Batch 1:  Loss=0.3988330364227295 ; ACC=0.6531999707221985\n",
      "Epoch 11, CIFAR-10 Batch 2:  Loss=0.2687103748321533 ; ACC=0.6370000243186951\n",
      "Epoch 11, CIFAR-10 Batch 3:  Loss=0.16492860019207 ; ACC=0.6416000127792358\n",
      "Epoch 11, CIFAR-10 Batch 4:  Loss=0.28464508056640625 ; ACC=0.6435999870300293\n",
      "Epoch 11, CIFAR-10 Batch 5:  Loss=0.16664640605449677 ; ACC=0.656000018119812\n",
      "Epoch 12, CIFAR-10 Batch 1:  Loss=0.3044801950454712 ; ACC=0.6496000289916992\n",
      "Epoch 12, CIFAR-10 Batch 2:  Loss=0.2736102044582367 ; ACC=0.6417999863624573\n",
      "Epoch 12, CIFAR-10 Batch 3:  Loss=0.1262090504169464 ; ACC=0.6470000147819519\n",
      "Epoch 12, CIFAR-10 Batch 4:  Loss=0.2000705748796463 ; ACC=0.6353999972343445\n",
      "Epoch 12, CIFAR-10 Batch 5:  Loss=0.18882286548614502 ; ACC=0.6424000263214111\n",
      "Epoch 13, CIFAR-10 Batch 1:  Loss=0.18941092491149902 ; ACC=0.6398000121116638\n",
      "Epoch 13, CIFAR-10 Batch 2:  Loss=0.21691827476024628 ; ACC=0.6430000066757202\n",
      "Epoch 13, CIFAR-10 Batch 3:  Loss=0.09164731949567795 ; ACC=0.6549999713897705\n",
      "Epoch 13, CIFAR-10 Batch 4:  Loss=0.13669243454933167 ; ACC=0.6466000080108643\n",
      "Epoch 13, CIFAR-10 Batch 5:  Loss=0.09286870062351227 ; ACC=0.650600016117096\n",
      "Epoch 14, CIFAR-10 Batch 1:  Loss=0.2225835770368576 ; ACC=0.6215999722480774\n",
      "Epoch 14, CIFAR-10 Batch 2:  Loss=0.14264678955078125 ; ACC=0.6420000195503235\n",
      "Epoch 14, CIFAR-10 Batch 3:  Loss=0.08564211428165436 ; ACC=0.6467999815940857\n",
      "Epoch 14, CIFAR-10 Batch 4:  Loss=0.1380806714296341 ; ACC=0.6498000025749207\n",
      "Epoch 14, CIFAR-10 Batch 5:  Loss=0.1366596668958664 ; ACC=0.621999979019165\n",
      "Epoch 15, CIFAR-10 Batch 1:  Loss=0.18250858783721924 ; ACC=0.6514000296592712\n",
      "Epoch 15, CIFAR-10 Batch 2:  Loss=0.1086031049489975 ; ACC=0.6438000202178955\n",
      "Epoch 15, CIFAR-10 Batch 3:  Loss=0.09525681287050247 ; ACC=0.6507999897003174\n",
      "Epoch 15, CIFAR-10 Batch 4:  Loss=0.09269469976425171 ; ACC=0.6435999870300293\n",
      "Epoch 15, CIFAR-10 Batch 5:  Loss=0.06734713166952133 ; ACC=0.6373999714851379\n",
      "Epoch 16, CIFAR-10 Batch 1:  Loss=0.13420039415359497 ; ACC=0.6442000269889832\n",
      "Epoch 16, CIFAR-10 Batch 2:  Loss=0.19830827414989471 ; ACC=0.63919997215271\n",
      "Epoch 16, CIFAR-10 Batch 3:  Loss=0.11400071531534195 ; ACC=0.6538000106811523\n",
      "Epoch 16, CIFAR-10 Batch 4:  Loss=0.10512105375528336 ; ACC=0.6358000040054321\n",
      "Epoch 16, CIFAR-10 Batch 5:  Loss=0.07380083203315735 ; ACC=0.6367999911308289\n",
      "Epoch 17, CIFAR-10 Batch 1:  Loss=0.13662424683570862 ; ACC=0.6480000019073486\n",
      "Epoch 17, CIFAR-10 Batch 2:  Loss=0.19693207740783691 ; ACC=0.6068000197410583\n",
      "Epoch 17, CIFAR-10 Batch 3:  Loss=0.07018868625164032 ; ACC=0.645799994468689\n",
      "Epoch 17, CIFAR-10 Batch 4:  Loss=0.07590434700250626 ; ACC=0.6317999958992004\n",
      "Epoch 17, CIFAR-10 Batch 5:  Loss=0.06156737729907036 ; ACC=0.620199978351593\n",
      "Epoch 18, CIFAR-10 Batch 1:  Loss=0.06928356736898422 ; ACC=0.6520000100135803\n",
      "Epoch 18, CIFAR-10 Batch 2:  Loss=0.12637153267860413 ; ACC=0.6141999959945679\n",
      "Epoch 18, CIFAR-10 Batch 3:  Loss=0.05628589540719986 ; ACC=0.6517999768257141\n",
      "Epoch 18, CIFAR-10 Batch 4:  Loss=0.06774960458278656 ; ACC=0.6344000101089478\n",
      "Epoch 18, CIFAR-10 Batch 5:  Loss=0.07768751680850983 ; ACC=0.6421999931335449\n",
      "Epoch 19, CIFAR-10 Batch 1:  Loss=0.05029819533228874 ; ACC=0.6460000276565552\n",
      "Epoch 19, CIFAR-10 Batch 2:  Loss=0.06714185327291489 ; ACC=0.6277999877929688\n",
      "Epoch 19, CIFAR-10 Batch 3:  Loss=0.03800640255212784 ; ACC=0.6452000141143799\n",
      "Epoch 19, CIFAR-10 Batch 4:  Loss=0.0523407869040966 ; ACC=0.6330000162124634\n",
      "Epoch 19, CIFAR-10 Batch 5:  Loss=0.043795906007289886 ; ACC=0.6388000249862671\n",
      "Epoch 20, CIFAR-10 Batch 1:  Loss=0.04693807289004326 ; ACC=0.6388000249862671\n",
      "Epoch 20, CIFAR-10 Batch 2:  Loss=0.06802067905664444 ; ACC=0.6248000264167786\n",
      "Epoch 20, CIFAR-10 Batch 3:  Loss=0.020971396937966347 ; ACC=0.6460000276565552\n",
      "Epoch 20, CIFAR-10 Batch 4:  Loss=0.04350188747048378 ; ACC=0.6251999735832214\n",
      "Epoch 20, CIFAR-10 Batch 5:  Loss=0.09746231883764267 ; ACC=0.6539999842643738\n",
      "Epoch 21, CIFAR-10 Batch 1:  Loss=0.08144511282444 ; ACC=0.6471999883651733\n",
      "Epoch 21, CIFAR-10 Batch 2:  Loss=0.06365898251533508 ; ACC=0.6442000269889832\n",
      "Epoch 21, CIFAR-10 Batch 3:  Loss=0.06630642712116241 ; ACC=0.6449999809265137\n"
     ]
    }
   ],
   "source": [
    "\"\"\"\n",
    "DON'T MODIFY ANYTHING IN THIS CELL\n",
    "\"\"\"\n",
    "save_model_path = './image_classification'\n",
    "\n",
    "print('Training...')\n",
    "with tf.Session() as sess:\n",
    "    # Initializing the variables\n",
    "    sess.run(tf.global_variables_initializer())\n",
    "    \n",
    "    # Training cycle\n",
    "    for epoch in range(epochs):\n",
    "        # Loop over all batches\n",
    "        n_batches = 5\n",
    "        for batch_i in range(1, n_batches + 1):\n",
    "            for batch_features, batch_labels in helper.load_preprocess_training_batch(batch_i, batch_size):\n",
    "                train_neural_network(sess, optimizer, keep_probability, batch_features, batch_labels)\n",
    "            print('Epoch {:>2}, CIFAR-10 Batch {}:  '.format(epoch + 1, batch_i), end='')\n",
    "            print_stats(sess, batch_features, batch_labels, cost, accuracy)\n",
    "            \n",
    "    # Save Model\n",
    "    saver = tf.train.Saver()\n",
    "    save_path = saver.save(sess, save_model_path)"
   ]
  },
  {
   "cell_type": "markdown",
   "metadata": {},
   "source": [
    "# Checkpoint\n",
    "The model has been saved to disk.\n",
    "## Test Model\n",
    "Test your model against the test dataset.  This will be your final accuracy. You should have an accuracy greater than 50%. If you don't, keep tweaking the model architecture and parameters."
   ]
  },
  {
   "cell_type": "code",
   "execution_count": null,
   "metadata": {
    "collapsed": true
   },
   "outputs": [],
   "source": [
    "\"\"\"\n",
    "DON'T MODIFY ANYTHING IN THIS CELL\n",
    "\"\"\"\n",
    "%matplotlib inline\n",
    "%config InlineBackend.figure_format = 'retina'\n",
    "\n",
    "import tensorflow as tf\n",
    "import pickle\n",
    "import helper\n",
    "import random\n",
    "\n",
    "# Set batch size if not already set\n",
    "try:\n",
    "    if batch_size:\n",
    "        pass\n",
    "except NameError:\n",
    "    batch_size = 64\n",
    "\n",
    "save_model_path = './image_classification'\n",
    "n_samples = 4\n",
    "top_n_predictions = 3\n",
    "\n",
    "def test_model():\n",
    "    \"\"\"\n",
    "    Test the saved model against the test dataset\n",
    "    \"\"\"\n",
    "\n",
    "    test_features, test_labels = pickle.load(open('preprocess_test.p', mode='rb'))\n",
    "    loaded_graph = tf.Graph()\n",
    "\n",
    "    with tf.Session(graph=loaded_graph) as sess:\n",
    "        # Load model\n",
    "        loader = tf.train.import_meta_graph(save_model_path + '.meta')\n",
    "        loader.restore(sess, save_model_path)\n",
    "\n",
    "        # Get Tensors from loaded model\n",
    "        loaded_x = loaded_graph.get_tensor_by_name('x:0')\n",
    "        loaded_y = loaded_graph.get_tensor_by_name('y:0')\n",
    "        loaded_keep_prob = loaded_graph.get_tensor_by_name('keep_prob:0')\n",
    "        loaded_logits = loaded_graph.get_tensor_by_name('logits:0')\n",
    "        loaded_acc = loaded_graph.get_tensor_by_name('accuracy:0')\n",
    "        \n",
    "        # Get accuracy in batches for memory limitations\n",
    "        test_batch_acc_total = 0\n",
    "        test_batch_count = 0\n",
    "        \n",
    "        for test_feature_batch, test_label_batch in helper.batch_features_labels(test_features, test_labels, batch_size):\n",
    "            test_batch_acc_total += sess.run(\n",
    "                loaded_acc,\n",
    "                feed_dict={loaded_x: test_feature_batch, loaded_y: test_label_batch, loaded_keep_prob: 1.0})\n",
    "            test_batch_count += 1\n",
    "\n",
    "        print('Testing Accuracy: {}\\n'.format(test_batch_acc_total/test_batch_count))\n",
    "\n",
    "        # Print Random Samples\n",
    "        random_test_features, random_test_labels = tuple(zip(*random.sample(list(zip(test_features, test_labels)), n_samples)))\n",
    "        random_test_predictions = sess.run(\n",
    "            tf.nn.top_k(tf.nn.softmax(loaded_logits), top_n_predictions),\n",
    "            feed_dict={loaded_x: random_test_features, loaded_y: random_test_labels, loaded_keep_prob: 1.0})\n",
    "        helper.display_image_predictions(random_test_features, random_test_labels, random_test_predictions)\n",
    "\n",
    "\n",
    "test_model()"
   ]
  },
  {
   "cell_type": "markdown",
   "metadata": {},
   "source": [
    "## Why 50-80% Accuracy?\n",
    "You might be wondering why you can't get an accuracy any higher. First things first, 50% isn't bad for a simple CNN.  Pure guessing would get you 10% accuracy. However, you might notice people are getting scores [well above 80%](http://rodrigob.github.io/are_we_there_yet/build/classification_datasets_results.html#43494641522d3130).  That's because we haven't taught you all there is to know about neural networks. We still need to cover a few more techniques.\n",
    "## Submitting This Project\n",
    "When submitting this project, make sure to run all the cells before saving the notebook.  Save the notebook file as \"dlnd_image_classification.ipynb\" and save it as a HTML file under \"File\" -> \"Download as\".  Include the \"helper.py\" and \"problem_unittests.py\" files in your submission."
   ]
  }
 ],
 "metadata": {
  "kernelspec": {
   "display_name": "Python 3",
   "language": "python",
   "name": "python3"
  },
  "language_info": {
   "codemirror_mode": {
    "name": "ipython",
    "version": 3
   },
   "file_extension": ".py",
   "mimetype": "text/x-python",
   "name": "python",
   "nbconvert_exporter": "python",
   "pygments_lexer": "ipython3",
   "version": "3.5.4"
  }
 },
 "nbformat": 4,
 "nbformat_minor": 1
}
